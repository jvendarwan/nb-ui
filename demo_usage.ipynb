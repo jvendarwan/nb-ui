{
 "cells": [
  {
   "cell_type": "markdown",
   "metadata": {
    "vscode": {
     "languageId": "raw"
    }
   },
   "source": [
    "# \ud83c\udfa8 nb-ui for Data Scientists\n",
    "\n",
    "> **Zero HTML/CSS Required** - Beautiful notebooks with simple Python function calls\n",
    "\n",
    "This notebook demonstrates the **essential nb-ui components** for data science presentations and reports.\n",
    "\n",
    "**Featured components:** Headers, Cards, Alerts, CodeBlocks, Typography, and basic Containers.\n"
   ]
  },
  {
   "cell_type": "code",
   "execution_count": 57,
   "metadata": {},
   "outputs": [
    {
     "name": "stdout",
     "output_type": "stream",
     "text": [
      "\ud83c\udfa8 Available themes: ['material', 'antd', 'dark']\n",
      "\ud83d\udccb Current theme: <src.theme.core.Theme object at 0x103b59a50>\n"
     ]
    }
   ],
   "source": [
    "# Essential imports for data science notebooks\n",
    "from nb_ui import Header, Card, CodeBlock, Typography, Container\n",
    "from nb_ui import success, error, warning, info\n",
    "from nb_ui import set_theme, get_theme, list_themes\n",
    "\n",
    "# Let's see what themes are available\n",
    "print(\"\ud83c\udfa8 Available themes:\", list_themes())\n",
    "print(\"\ud83d\udccb Current theme:\", get_theme())\n",
    "\n",
    "# Set a theme for this demo  \n",
    "set_theme(\"material\")\n"
   ]
  },
  {
   "cell_type": "code",
   "execution_count": 58,
   "metadata": {},
   "outputs": [
    {
     "data": {
      "text/html": [
       "\n",
       "        <style>\n",
       "            .nb-component {\n",
       "                font-family: -apple-system, BlinkMacSystemFont, 'Segoe UI', 'Roboto', 'Oxygen', 'Ubuntu', 'Cantarell', 'Fira Sans', 'Droid Sans', 'Helvetica Neue', sans-serif;\n",
       "                -webkit-font-smoothing: antialiased;\n",
       "                -moz-osx-font-smoothing: grayscale;\n",
       "                box-sizing: border-box;\n",
       "            }\n",
       "            \n",
       "            .nb-component *, .nb-component *::before, .nb-component *::after {\n",
       "                box-sizing: inherit;\n",
       "            }\n",
       "        </style>\n",
       "        \n",
       "        <style>\n",
       "            .header-nb-header-7ae17c1f {\n",
       "                text-align: center;\n",
       "                margin: 2rem 0;\n",
       "                padding: 1.5rem 0;\n",
       "            }\n",
       "            \n",
       "            .header-nb-header-7ae17c1f h1,\n",
       "            .header-nb-header-7ae17c1f h2,\n",
       "            .header-nb-header-7ae17c1f h3,\n",
       "            .header-nb-header-7ae17c1f h4,\n",
       "            .header-nb-header-7ae17c1f h5,\n",
       "            .header-nb-header-7ae17c1f h6 {\n",
       "                color: #1976d2;\n",
       "                font-size: 2.125rem;\n",
       "                font-weight: 300;\n",
       "                line-height: 1.167;\n",
       "                margin: 0;\n",
       "                letter-spacing: -0.01562em;\n",
       "            }\n",
       "        </style>\n",
       "        <div class=\"nb-component header-nb-header-7ae17c1f\">\n",
       "            <h1>\ud83d\ude80 Customer Churn Analysis</h1>\n",
       "            \n",
       "            <p style=\"color: #757575; \n",
       "                     font-size: 1rem;\n",
       "                     font-weight: 400;\n",
       "                     line-height: 1.5;\n",
       "                     margin: 0.5rem 0 0 0;\n",
       "                     text-align: center;\">\n",
       "                Predictive Modeling with Random Forest\n",
       "            </p>\n",
       "            \n",
       "            \n",
       "            <hr style=\"border: none; \n",
       "                      height: 2px; \n",
       "                      background: linear-gradient(90deg, #1976d2, #1976d240);\n",
       "                      margin: 1.5rem auto;\n",
       "                      width: 60px;\n",
       "                      border-radius: 2px;\">\n",
       "            \n",
       "        </div>\n",
       "        "
      ],
      "text/plain": [
       "<src.components.headers.Header at 0x103b1e790>"
      ]
     },
     "execution_count": 58,
     "metadata": {},
     "output_type": "execute_result"
    }
   ],
   "source": [
    "# \u2728 Beautiful Headers - Perfect for Section Titles\n",
    "Header(\n",
    "    \"\ud83d\ude80 Customer Churn Analysis\",\n",
    "    subtitle=\"Predictive Modeling with Random Forest\"\n",
    ")\n"
   ]
  },
  {
   "cell_type": "code",
   "execution_count": 59,
   "metadata": {},
   "outputs": [
    {
     "data": {
      "text/html": [
       "\n",
       "        <style>\n",
       "            .nb-component {\n",
       "                font-family: -apple-system, BlinkMacSystemFont, 'Segoe UI', 'Roboto', 'Oxygen', 'Ubuntu', 'Cantarell', 'Fira Sans', 'Droid Sans', 'Helvetica Neue', sans-serif;\n",
       "                -webkit-font-smoothing: antialiased;\n",
       "                -moz-osx-font-smoothing: grayscale;\n",
       "                box-sizing: border-box;\n",
       "            }\n",
       "            \n",
       "            .nb-component *, .nb-component *::before, .nb-component *::after {\n",
       "                box-sizing: inherit;\n",
       "            }\n",
       "        </style>\n",
       "        \n",
       "        <style>\n",
       "            .card-nb-card-d6780f5d {\n",
       "                background-color: #ffffff;\n",
       "                color: #212121;\n",
       "                border: none;\n",
       "                border-radius: 4px;\n",
       "                box-shadow: 0px 1px 3px rgba(0,0,0,0.12), 0px 1px 2px rgba(0,0,0,0.24);\n",
       "                overflow: hidden;\n",
       "                transition: box-shadow 300ms cubic-bezier(0.4, 0, 0.2, 1) 0ms;\n",
       "                margin: 1rem 0;\n",
       "            }\n",
       "        </style>\n",
       "        <div class=\"nb-component card-nb-card-d6780f5d\">\n",
       "            \n",
       "            <div style=\"padding: 1rem;\">\n",
       "                Our Random Forest model achieved 94.2% accuracy on the test set. Key predictors include: monthly charges (importance: 0.31), tenure (0.28), and contract type (0.22). The model identified 847 high-risk customers.\n",
       "            </div>\n",
       "            \n",
       "        </div>\n",
       "        "
      ],
      "text/plain": [
       "<src.components.cards.Card at 0x103bca590>"
      ]
     },
     "execution_count": 59,
     "metadata": {},
     "output_type": "execute_result"
    }
   ],
   "source": [
    "# \ud83d\udccb Cards for Key Findings and Results\n",
    "Card(\n",
    "    \"Our Random Forest model achieved 94.2% accuracy on the test set. \"\n",
    "    \"Key predictors include: monthly charges (importance: 0.31), tenure (0.28), \"\n",
    "    \"and contract type (0.22). The model identified 847 high-risk customers.\",\n",
    "    title=\"\ud83c\udfaf Model Performance Summary\"\n",
    ")\n"
   ]
  },
  {
   "cell_type": "code",
   "execution_count": 60,
   "metadata": {},
   "outputs": [
    {
     "data": {
      "text/html": [
       "\n",
       "        <style>\n",
       "            .nb-component {\n",
       "                font-family: -apple-system, BlinkMacSystemFont, 'Segoe UI', 'Roboto', 'Oxygen', 'Ubuntu', 'Cantarell', 'Fira Sans', 'Droid Sans', 'Helvetica Neue', sans-serif;\n",
       "                -webkit-font-smoothing: antialiased;\n",
       "                -moz-osx-font-smoothing: grayscale;\n",
       "                box-sizing: border-box;\n",
       "            }\n",
       "            \n",
       "            .nb-component *, .nb-component *::before, .nb-component *::after {\n",
       "                box-sizing: inherit;\n",
       "            }\n",
       "        </style>\n",
       "        \n",
       "        <style>\n",
       "            .alert-nb-alert-4d795a35 {\n",
       "                display: flex;\n",
       "                align-items: center;\n",
       "                padding: 0.5rem 1rem;\n",
       "                margin: 1rem 0;\n",
       "                border-radius: 4px;\n",
       "                background-color: #2e7d3208;\n",
       "                color: #2e7d32;\n",
       "                border: none;\n",
       "                font-size: 0.875rem;\n",
       "                line-height: 1.43;\n",
       "            }\n",
       "            \n",
       "            .alert-nb-alert-4d795a35 .alert-icon {\n",
       "                margin-right: 0.5rem;\n",
       "                font-size: 1.2rem;\n",
       "            }\n",
       "        </style>\n",
       "        <div class=\"nb-component alert-nb-alert-4d795a35\">\n",
       "            <span class=\"alert-icon\">\u2705</span>\n",
       "            <span style=\"flex: 1;\">\ud83c\udf89 Model validation completed successfully!</span>\n",
       "            \n",
       "        </div>\n",
       "        "
      ],
      "text/plain": [
       "<IPython.core.display.HTML object>"
      ]
     },
     "metadata": {},
     "output_type": "display_data"
    },
    {
     "data": {
      "text/html": [
       "\n",
       "        <style>\n",
       "            .nb-component {\n",
       "                font-family: -apple-system, BlinkMacSystemFont, 'Segoe UI', 'Roboto', 'Oxygen', 'Ubuntu', 'Cantarell', 'Fira Sans', 'Droid Sans', 'Helvetica Neue', sans-serif;\n",
       "                -webkit-font-smoothing: antialiased;\n",
       "                -moz-osx-font-smoothing: grayscale;\n",
       "                box-sizing: border-box;\n",
       "            }\n",
       "            \n",
       "            .nb-component *, .nb-component *::before, .nb-component *::after {\n",
       "                box-sizing: inherit;\n",
       "            }\n",
       "        </style>\n",
       "        \n",
       "        <style>\n",
       "            .alert-nb-alert-446ec1d3 {\n",
       "                display: flex;\n",
       "                align-items: center;\n",
       "                padding: 0.5rem 1rem;\n",
       "                margin: 1rem 0;\n",
       "                border-radius: 4px;\n",
       "                background-color: #ed6c0208;\n",
       "                color: #ed6c02;\n",
       "                border: none;\n",
       "                font-size: 0.875rem;\n",
       "                line-height: 1.43;\n",
       "            }\n",
       "            \n",
       "            .alert-nb-alert-446ec1d3 .alert-icon {\n",
       "                margin-right: 0.5rem;\n",
       "                font-size: 1.2rem;\n",
       "            }\n",
       "        </style>\n",
       "        <div class=\"nb-component alert-nb-alert-446ec1d3\">\n",
       "            <span class=\"alert-icon\">\u26a0\ufe0f</span>\n",
       "            <span style=\"flex: 1;\">\u26a0\ufe0f Feature correlation above 0.8 detected</span>\n",
       "            \n",
       "        </div>\n",
       "        "
      ],
      "text/plain": [
       "<IPython.core.display.HTML object>"
      ]
     },
     "metadata": {},
     "output_type": "display_data"
    },
    {
     "data": {
      "text/html": [
       "\n",
       "        <style>\n",
       "            .nb-component {\n",
       "                font-family: -apple-system, BlinkMacSystemFont, 'Segoe UI', 'Roboto', 'Oxygen', 'Ubuntu', 'Cantarell', 'Fira Sans', 'Droid Sans', 'Helvetica Neue', sans-serif;\n",
       "                -webkit-font-smoothing: antialiased;\n",
       "                -moz-osx-font-smoothing: grayscale;\n",
       "                box-sizing: border-box;\n",
       "            }\n",
       "            \n",
       "            .nb-component *, .nb-component *::before, .nb-component *::after {\n",
       "                box-sizing: inherit;\n",
       "            }\n",
       "        </style>\n",
       "        \n",
       "        <style>\n",
       "            .alert-nb-alert-907389a3 {\n",
       "                display: flex;\n",
       "                align-items: center;\n",
       "                padding: 0.5rem 1rem;\n",
       "                margin: 1rem 0;\n",
       "                border-radius: 4px;\n",
       "                background-color: #d32f2f08;\n",
       "                color: #d32f2f;\n",
       "                border: none;\n",
       "                font-size: 0.875rem;\n",
       "                line-height: 1.43;\n",
       "            }\n",
       "            \n",
       "            .alert-nb-alert-907389a3 .alert-icon {\n",
       "                margin-right: 0.5rem;\n",
       "                font-size: 1.2rem;\n",
       "            }\n",
       "        </style>\n",
       "        <div class=\"nb-component alert-nb-alert-907389a3\">\n",
       "            <span class=\"alert-icon\">\u274c</span>\n",
       "            <span style=\"flex: 1;\">\u274c Database connection failed - retrying...</span>\n",
       "            \n",
       "        </div>\n",
       "        "
      ],
      "text/plain": [
       "<IPython.core.display.HTML object>"
      ]
     },
     "metadata": {},
     "output_type": "display_data"
    },
    {
     "data": {
      "text/html": [
       "\n",
       "        <style>\n",
       "            .nb-component {\n",
       "                font-family: -apple-system, BlinkMacSystemFont, 'Segoe UI', 'Roboto', 'Oxygen', 'Ubuntu', 'Cantarell', 'Fira Sans', 'Droid Sans', 'Helvetica Neue', sans-serif;\n",
       "                -webkit-font-smoothing: antialiased;\n",
       "                -moz-osx-font-smoothing: grayscale;\n",
       "                box-sizing: border-box;\n",
       "            }\n",
       "            \n",
       "            .nb-component *, .nb-component *::before, .nb-component *::after {\n",
       "                box-sizing: inherit;\n",
       "            }\n",
       "        </style>\n",
       "        \n",
       "        <style>\n",
       "            .alert-nb-alert-797d0d3b {\n",
       "                display: flex;\n",
       "                align-items: center;\n",
       "                padding: 0.5rem 1rem;\n",
       "                margin: 1rem 0;\n",
       "                border-radius: 4px;\n",
       "                background-color: #0288d108;\n",
       "                color: #0288d1;\n",
       "                border: none;\n",
       "                font-size: 0.875rem;\n",
       "                line-height: 1.43;\n",
       "            }\n",
       "            \n",
       "            .alert-nb-alert-797d0d3b .alert-icon {\n",
       "                margin-right: 0.5rem;\n",
       "                font-size: 1.2rem;\n",
       "            }\n",
       "        </style>\n",
       "        <div class=\"nb-component alert-nb-alert-797d0d3b\">\n",
       "            <span class=\"alert-icon\">\u2139\ufe0f</span>\n",
       "            <span style=\"flex: 1;\">\ud83d\udca1 Next step: Deploy model to production environment</span>\n",
       "            \n",
       "        </div>\n",
       "        "
      ],
      "text/plain": [
       "<IPython.core.display.HTML object>"
      ]
     },
     "metadata": {},
     "output_type": "display_data"
    },
    {
     "data": {
      "text/html": [
       "\n",
       "        <style>\n",
       "            .nb-component {\n",
       "                font-family: -apple-system, BlinkMacSystemFont, 'Segoe UI', 'Roboto', 'Oxygen', 'Ubuntu', 'Cantarell', 'Fira Sans', 'Droid Sans', 'Helvetica Neue', sans-serif;\n",
       "                -webkit-font-smoothing: antialiased;\n",
       "                -moz-osx-font-smoothing: grayscale;\n",
       "                box-sizing: border-box;\n",
       "            }\n",
       "            \n",
       "            .nb-component *, .nb-component *::before, .nb-component *::after {\n",
       "                box-sizing: inherit;\n",
       "            }\n",
       "        </style>\n",
       "        \n",
       "        <style>\n",
       "            .alert-nb-alert-797d0d3b {\n",
       "                display: flex;\n",
       "                align-items: center;\n",
       "                padding: 0.5rem 1rem;\n",
       "                margin: 1rem 0;\n",
       "                border-radius: 4px;\n",
       "                background-color: #0288d108;\n",
       "                color: #0288d1;\n",
       "                border: none;\n",
       "                font-size: 0.875rem;\n",
       "                line-height: 1.43;\n",
       "            }\n",
       "            \n",
       "            .alert-nb-alert-797d0d3b .alert-icon {\n",
       "                margin-right: 0.5rem;\n",
       "                font-size: 1.2rem;\n",
       "            }\n",
       "        </style>\n",
       "        <div class=\"nb-component alert-nb-alert-797d0d3b\">\n",
       "            <span class=\"alert-icon\">\u2139\ufe0f</span>\n",
       "            <span style=\"flex: 1;\">\ud83d\udca1 Next step: Deploy model to production environment</span>\n",
       "            \n",
       "        </div>\n",
       "        "
      ],
      "text/plain": [
       "<src.components.alerts.Alert at 0x103bb4b10>"
      ]
     },
     "execution_count": 60,
     "metadata": {},
     "output_type": "execute_result"
    }
   ],
   "source": [
    "# Complete set of utility functions for all alert types\n",
    "success(\"\ud83c\udf89 Model validation completed successfully!\")\n",
    "warning(\"\u26a0\ufe0f Feature correlation above 0.8 detected\")\n",
    "error(\"\u274c Database connection failed - retrying...\")\n",
    "info(\"\ud83d\udca1 Next step: Deploy model to production environment\")\n"
   ]
  },
  {
   "cell_type": "code",
   "execution_count": 61,
   "metadata": {},
   "outputs": [
    {
     "data": {
      "text/html": [
       "\n",
       "        <style>\n",
       "            .nb-component {\n",
       "                font-family: -apple-system, BlinkMacSystemFont, 'Segoe UI', 'Roboto', 'Oxygen', 'Ubuntu', 'Cantarell', 'Fira Sans', 'Droid Sans', 'Helvetica Neue', sans-serif;\n",
       "                -webkit-font-smoothing: antialiased;\n",
       "                -moz-osx-font-smoothing: grayscale;\n",
       "                box-sizing: border-box;\n",
       "            }\n",
       "            \n",
       "            .nb-component *, .nb-component *::before, .nb-component *::after {\n",
       "                box-sizing: inherit;\n",
       "            }\n",
       "        </style>\n",
       "        \n",
       "        <style>\n",
       "            .code-block-nb-codeblock-166e376c {\n",
       "                display: flex;\n",
       "                background: #f8f9fa;\n",
       "                border: 1px solid #e9ecef;\n",
       "                border-radius: 4px;\n",
       "                margin: 1rem 0;\n",
       "                overflow-x: auto;\n",
       "                box-shadow: 0px 1px 3px rgba(0,0,0,0.12), 0px 1px 2px rgba(0,0,0,0.24);\n",
       "            }\n",
       "            \n",
       "            .code-block-nb-codeblock-166e376c pre {\n",
       "                flex: 1;\n",
       "                margin: 0;\n",
       "                padding: 1rem;\n",
       "                background: transparent;\n",
       "                color: #212529;\n",
       "                font-family: 'JetBrains Mono', 'Fira Code', 'Consolas', monospace;\n",
       "                font-size: 0.875rem;\n",
       "                line-height: 1.5;\n",
       "                overflow: visible;\n",
       "            }\n",
       "        </style>\n",
       "        <div class=\"nb-component code-block-nb-codeblock-166e376c\">\n",
       "            \n",
       "            <pre><code>\n",
       "# Feature engineering pipeline\n",
       "def preprocess_data(df):\n",
       "    # Handle missing values\n",
       "    df['TotalCharges'] = pd.to_numeric(df['TotalCharges'], errors='coerce')\n",
       "    df['TotalCharges'].fillna(df['TotalCharges'].median(), inplace=True)\n",
       "\n",
       "    # Create derived features\n",
       "    df['charges_per_month'] = df['TotalCharges'] / df['tenure']\n",
       "    df['is_senior'] = (df['SeniorCitizen'] == 1).astype(int)\n",
       "\n",
       "    return df\n",
       "</code></pre>\n",
       "        </div>\n",
       "        "
      ],
      "text/plain": [
       "<src.components.code.CodeBlock at 0x103b9add0>"
      ]
     },
     "execution_count": 61,
     "metadata": {},
     "output_type": "execute_result"
    }
   ],
   "source": [
    "# \ud83d\udcbb CodeBlock - Perfect for Documentation and Code Examples\n",
    "CodeBlock(\"\"\"\n",
    "# Feature engineering pipeline\n",
    "def preprocess_data(df):\n",
    "    # Handle missing values\n",
    "    df['TotalCharges'] = pd.to_numeric(df['TotalCharges'], errors='coerce')\n",
    "    df['TotalCharges'].fillna(df['TotalCharges'].median(), inplace=True)\n",
    "    \n",
    "    # Create derived features\n",
    "    df['charges_per_month'] = df['TotalCharges'] / df['tenure']\n",
    "    df['is_senior'] = (df['SeniorCitizen'] == 1).astype(int)\n",
    "    \n",
    "    return df\n",
    "\"\"\", \n",
    "language=\"python\", \n",
    "title=\"\ud83d\udcca Data Preprocessing Function\")\n"
   ]
  },
  {
   "cell_type": "code",
   "execution_count": 62,
   "metadata": {},
   "outputs": [
    {
     "name": "stdout",
     "output_type": "stream",
     "text": [
      "\ud83d\udcdd Typography Examples:\n",
      "\ud83d\udcdd Typography Examples:\n"
     ]
    },
    {
     "data": {
      "text/html": [
       "\n",
       "        <style>\n",
       "            .nb-component {\n",
       "                font-family: -apple-system, BlinkMacSystemFont, 'Segoe UI', 'Roboto', 'Oxygen', 'Ubuntu', 'Cantarell', 'Fira Sans', 'Droid Sans', 'Helvetica Neue', sans-serif;\n",
       "                -webkit-font-smoothing: antialiased;\n",
       "                -moz-osx-font-smoothing: grayscale;\n",
       "                box-sizing: border-box;\n",
       "            }\n",
       "            \n",
       "            .nb-component *, .nb-component *::before, .nb-component *::after {\n",
       "                box-sizing: inherit;\n",
       "            }\n",
       "        </style>\n",
       "        \n",
       "        <style>\n",
       "            .typography-nb-typography-b6073447 {\n",
       "                font-size: 0.75rem;\n",
       "                font-weight: 400;\n",
       "                line-height: 1.66;\n",
       "                color: #212121;\n",
       "                text-align: left;\n",
       "                margin: 0 0 0 0;\n",
       "                overflow: visible;\n",
       "                white-space: normal;\n",
       "                text-overflow: clip;\n",
       "            }\n",
       "        </style>\n",
       "        <span class=\"nb-component typography-nb-typography-b6073447\">Statistical significance: p < 0.001</span>\n",
       "        "
      ],
      "text/plain": [
       "<src.components.typography.Typography at 0x103ba3710>"
      ]
     },
     "execution_count": 62,
     "metadata": {},
     "output_type": "execute_result"
    }
   ],
   "source": [
    "# \u2728 Typography - Professional Text Styling\n",
    "print(\"\ud83d\udcdd Typography Examples:\")\n",
    "print(\"\ud83d\udcdd Typography Examples:\")\n",
    "Typography(\"This is a regular paragraph with professional styling.\", variant=\"body1\")\n",
    "Typography(\"Key insight: Customer lifetime value correlates strongly with tenure.\", variant=\"body2\") \n",
    "Typography(\"Important findings require emphasis!\", variant=\"h6\", weight=\"bold\")\n",
    "Typography(\"Statistical significance: p < 0.001\", variant=\"caption\", style=\"italic\")\n"
   ]
  },
  {
   "cell_type": "code",
   "execution_count": 63,
   "metadata": {},
   "outputs": [
    {
     "name": "stdout",
     "output_type": "stream",
     "text": [
      "\ud83d\udce6 Container Example:\n"
     ]
    },
    {
     "data": {
      "text/html": [
       "\n",
       "        <style>\n",
       "            .nb-component {\n",
       "                font-family: -apple-system, BlinkMacSystemFont, 'Segoe UI', 'Roboto', 'Oxygen', 'Ubuntu', 'Cantarell', 'Fira Sans', 'Droid Sans', 'Helvetica Neue', sans-serif;\n",
       "                -webkit-font-smoothing: antialiased;\n",
       "                -moz-osx-font-smoothing: grayscale;\n",
       "                box-sizing: border-box;\n",
       "            }\n",
       "            \n",
       "            .nb-component *, .nb-component *::before, .nb-component *::after {\n",
       "                box-sizing: inherit;\n",
       "            }\n",
       "        </style>\n",
       "        \n",
       "        <style>\n",
       "            .container-nb-container-da87cbb1 {\n",
       "                width: 100%;\n",
       "                max-width: 960px;\n",
       "                margin: 0 auto;\n",
       "                padding: 0 1rem;\n",
       "                box-sizing: border-box;\n",
       "            }\n",
       "        </style>\n",
       "        <div class=\"nb-component container-nb-container-da87cbb1\">\n",
       "            \n",
       "<div style=\"text-align: center;\">\n",
       "    <h3>\ud83d\udcc8 Centered Model Performance</h3>\n",
       "    <p>This content is automatically centered and has consistent margins.</p>\n",
       "    <strong>Accuracy: 94.2% | Precision: 91.8% | Recall: 89.3%</strong>\n",
       "</div>\n",
       "\n",
       "        </div>\n",
       "        "
      ],
      "text/plain": [
       "<src.components.containers.Container at 0x103b58810>"
      ]
     },
     "execution_count": 63,
     "metadata": {},
     "output_type": "execute_result"
    }
   ],
   "source": [
    "# \ud83d\udce6 Container - Centers content with consistent width\n",
    "print(\"\ud83d\udce6 Container Example:\")\n",
    "Container(\"\"\"\n",
    "<div style=\"text-align: center;\">\n",
    "    <h3>\ud83d\udcc8 Centered Model Performance</h3>\n",
    "    <p>This content is automatically centered and has consistent margins.</p>\n",
    "    <strong>Accuracy: 94.2% | Precision: 91.8% | Recall: 89.3%</strong>\n",
    "</div>\n",
    "\"\"\", maxWidth=\"md\")\n"
   ]
  },
  {
   "cell_type": "code",
   "execution_count": 64,
   "metadata": {},
   "outputs": [
    {
     "data": {
      "text/html": [
       "\n",
       "        <style>\n",
       "            .nb-component {\n",
       "                font-family: -apple-system, BlinkMacSystemFont, 'Segoe UI', 'Roboto', 'Oxygen', 'Ubuntu', 'Cantarell', 'Fira Sans', 'Droid Sans', 'Helvetica Neue', sans-serif;\n",
       "                -webkit-font-smoothing: antialiased;\n",
       "                -moz-osx-font-smoothing: grayscale;\n",
       "                box-sizing: border-box;\n",
       "            }\n",
       "            \n",
       "            .nb-component *, .nb-component *::before, .nb-component *::after {\n",
       "                box-sizing: inherit;\n",
       "            }\n",
       "        </style>\n",
       "        \n",
       "        <style>\n",
       "            .container-nb-container-1ad40ba3 {\n",
       "                width: 100%;\n",
       "                max-width: 960px;\n",
       "                margin: 0 auto;\n",
       "                padding: 0 1rem;\n",
       "                box-sizing: border-box;\n",
       "            }\n",
       "        </style>\n",
       "        <div class=\"nb-component container-nb-container-1ad40ba3\">\n",
       "            \n",
       "<div style=\"text-align: center;\">\n",
       "    <h3>\ud83d\udcc8 Centered Model Performance</h3>\n",
       "    <p>This content is automatically centered and has consistent margins.</p>\n",
       "    <strong>Accuracy: 94.2% | Precision: 91.8% | Recall: 89.3%</strong>\n",
       "</div>\n",
       "\n",
       "        </div>\n",
       "        "
      ],
      "text/plain": [
       "<src.components.containers.Container at 0x103b99250>"
      ]
     },
     "execution_count": 64,
     "metadata": {},
     "output_type": "execute_result"
    }
   ],
   "source": [
    "# \ud83d\udce6 Container - Centers content with consistent width\n",
    "Container(\"\"\"\n",
    "<div style=\"text-align: center;\">\n",
    "    <h3>\ud83d\udcc8 Centered Model Performance</h3>\n",
    "    <p>This content is automatically centered and has consistent margins.</p>\n",
    "    <strong>Accuracy: 94.2% | Precision: 91.8% | Recall: 89.3%</strong>\n",
    "</div>\n",
    "\"\"\", maxWidth=\"md\")\n"
   ]
  },
  {
   "cell_type": "code",
   "execution_count": 65,
   "metadata": {},
   "outputs": [
    {
     "data": {
      "text/html": [
       "\n",
       "        <style>\n",
       "            .nb-component {\n",
       "                font-family: -apple-system, BlinkMacSystemFont, 'Segoe UI', 'Roboto', 'Oxygen', 'Ubuntu', 'Cantarell', 'Fira Sans', 'Droid Sans', 'Helvetica Neue', sans-serif;\n",
       "                -webkit-font-smoothing: antialiased;\n",
       "                -moz-osx-font-smoothing: grayscale;\n",
       "                box-sizing: border-box;\n",
       "            }\n",
       "            \n",
       "            .nb-component *, .nb-component *::before, .nb-component *::after {\n",
       "                box-sizing: inherit;\n",
       "            }\n",
       "        </style>\n",
       "        \n",
       "        <style>\n",
       "            .alert-nb-alert-ddbc487b {\n",
       "                display: flex;\n",
       "                align-items: center;\n",
       "                padding: 0.5rem 1rem;\n",
       "                margin: 1rem 0;\n",
       "                border-radius: 4px;\n",
       "                background-color: #0288d108;\n",
       "                color: #0288d1;\n",
       "                border: none;\n",
       "                font-size: 0.875rem;\n",
       "                line-height: 1.43;\n",
       "            }\n",
       "            \n",
       "            .alert-nb-alert-ddbc487b .alert-icon {\n",
       "                margin-right: 0.5rem;\n",
       "                font-size: 1.2rem;\n",
       "            }\n",
       "        </style>\n",
       "        <div class=\"nb-component alert-nb-alert-ddbc487b\">\n",
       "            <span class=\"alert-icon\">\u2139\ufe0f</span>\n",
       "            <span style=\"flex: 1;\">\ud83d\udca1 Tip: Use these components to create publication-ready notebooks and impress stakeholders!</span>\n",
       "            \n",
       "        </div>\n",
       "        "
      ],
      "text/plain": [
       "<IPython.core.display.HTML object>"
      ]
     },
     "metadata": {},
     "output_type": "display_data"
    },
    {
     "data": {
      "text/html": [
       "\n",
       "        <style>\n",
       "            .nb-component {\n",
       "                font-family: -apple-system, BlinkMacSystemFont, 'Segoe UI', 'Roboto', 'Oxygen', 'Ubuntu', 'Cantarell', 'Fira Sans', 'Droid Sans', 'Helvetica Neue', sans-serif;\n",
       "                -webkit-font-smoothing: antialiased;\n",
       "                -moz-osx-font-smoothing: grayscale;\n",
       "                box-sizing: border-box;\n",
       "            }\n",
       "            \n",
       "            .nb-component *, .nb-component *::before, .nb-component *::after {\n",
       "                box-sizing: inherit;\n",
       "            }\n",
       "        </style>\n",
       "        \n",
       "        <style>\n",
       "            .alert-nb-alert-ddbc487b {\n",
       "                display: flex;\n",
       "                align-items: center;\n",
       "                padding: 0.5rem 1rem;\n",
       "                margin: 1rem 0;\n",
       "                border-radius: 4px;\n",
       "                background-color: #0288d108;\n",
       "                color: #0288d1;\n",
       "                border: none;\n",
       "                font-size: 0.875rem;\n",
       "                line-height: 1.43;\n",
       "            }\n",
       "            \n",
       "            .alert-nb-alert-ddbc487b .alert-icon {\n",
       "                margin-right: 0.5rem;\n",
       "                font-size: 1.2rem;\n",
       "            }\n",
       "        </style>\n",
       "        <div class=\"nb-component alert-nb-alert-ddbc487b\">\n",
       "            <span class=\"alert-icon\">\u2139\ufe0f</span>\n",
       "            <span style=\"flex: 1;\">\ud83d\udca1 Tip: Use these components to create publication-ready notebooks and impress stakeholders!</span>\n",
       "            \n",
       "        </div>\n",
       "        "
      ],
      "text/plain": [
       "<src.components.alerts.Alert at 0x103bca610>"
      ]
     },
     "execution_count": 65,
     "metadata": {},
     "output_type": "execute_result"
    }
   ],
   "source": [
    "# \ud83c\udf89 Summary - Essential Components for Data Science\n",
    "Header(\"\ud83c\udf89 Summary\", level=2)\n",
    "\n",
    "Card(\n",
    "    \"nb-ui provides essential UI components for professional data science notebooks. \"\n",
    "    \"Perfect for creating polished reports, presentations, and documentation without \"\n",
    "    \"writing HTML or CSS. Focus on your analysis, not on styling!\",\n",
    "    title=\"\u2728 Why nb-ui for Data Science?\"\n",
    ")\n",
    "\n",
    "info(\"\ud83d\udca1 Tip: Use these components to create publication-ready notebooks and impress stakeholders!\")\n"
   ]
  },
  {
   "cell_type": "markdown",
   "metadata": {
    "vscode": {
     "languageId": "raw"
    }
   },
   "source": [
    "## \ud83d\ude80 Quick Start for Data Scientists\n",
    "\n",
    "**Installation:**\n",
    "```bash\n",
    "pip install nb-ui \n",
    "```\n",
    "\n",
    "**Essential Components:**\n",
    "```python\n",
    "from nb_ui import Header, Card, CodeBlock, Typography, Container\n",
    "from nb_ui import success, warning, error, info, set_theme\n",
    "\n",
    "# Set your preferred theme\n",
    "set_theme(\"material\")  # or \"antd\", \"dark\"\n",
    "\n",
    "# Create professional notebooks\n",
    "Header(\"My Analysis\", subtitle=\"Findings and Insights\")\n",
    "Card(\"Key findings go here\", title=\"Results\")\n",
    "success(\"Model training completed!\")\n",
    "Typography(\"Professional text styling\", variant=\"body1\", weight=\"bold\")\n",
    "CodeBlock(\"print('Hello Data Science!')\", language=\"python\", title=\"Code Example\")\n",
    "Container(\"<p>Centered content</p>\", maxWidth=\"md\")\n",
    "```\n",
    "\n",
    "**Perfect for:**\n",
    "- \ud83d\udcca **Data Analysis Reports** - Professional presentation of findings\n",
    "- \ud83e\udd16 **Model Documentation** - Clear explanation of ML pipelines  \n",
    "- \ud83d\udcc8 **Executive Summaries** - Stakeholder-ready insights\n",
    "- \ud83d\udd2c **Research Papers** - Academic-quality formatting\n",
    "- \ud83c\udfaf **Model Training Logs** - Real-time status updates\n",
    "\n",
    "**Most Useful Components:**\n",
    "1. **Header** - Section titles and subtitles\n",
    "2. **Card** - Key findings and result summaries\n",
    "3. **Alert** - Status messages and warnings\n",
    "4. **Typography** - Professional text styling\n",
    "5. **success/warning/error/info** - Quick status functions\n",
    "\n",
    "*Transform your notebooks from code dumps to professional reports!*\n"
   ]
  }
 ],
 "metadata": {
  "kernelspec": {
   "display_name": "iod_mod10",
   "language": "python",
   "name": "python3"
  },
  "language_info": {
   "codemirror_mode": {
    "name": "ipython",
    "version": 3
   },
   "file_extension": ".py",
   "mimetype": "text/x-python",
   "name": "python",
   "nbconvert_exporter": "python",
   "pygments_lexer": "ipython3",
   "version": "3.11.13"
  }
 },
 "nbformat": 4,
 "nbformat_minor": 2
}